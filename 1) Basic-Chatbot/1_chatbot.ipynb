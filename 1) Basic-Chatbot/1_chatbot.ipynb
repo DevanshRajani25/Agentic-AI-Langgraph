{
 "cells": [
  {
   "cell_type": "code",
   "execution_count": 1,
   "id": "75b9a539",
   "metadata": {},
   "outputs": [],
   "source": [
    "from typing import Annotated\n",
    "from typing_extensions import TypedDict\n",
    "from langgraph.graph import StateGraph, START, END\n",
    "from langgraph.graph.message import add_messages # add_messages is reducer which only append messages, not replaces"
   ]
  },
  {
   "cell_type": "code",
   "execution_count": 2,
   "id": "655f1fae",
   "metadata": {},
   "outputs": [],
   "source": [
    "class State(TypedDict):\n",
    "    messages:Annotated[list, add_messages]  # append messages to list using add_message"
   ]
  },
  {
   "cell_type": "code",
   "execution_count": 3,
   "id": "6b463f42",
   "metadata": {},
   "outputs": [
    {
     "data": {
      "text/plain": [
       "True"
      ]
     },
     "execution_count": 3,
     "metadata": {},
     "output_type": "execute_result"
    }
   ],
   "source": [
    "import os \n",
    "from dotenv import load_dotenv\n",
    "load_dotenv()"
   ]
  },
  {
   "cell_type": "code",
   "execution_count": 4,
   "id": "8281e33a",
   "metadata": {},
   "outputs": [],
   "source": [
    "# Make LLM\n",
    "from langchain_groq import ChatGroq\n",
    "from langchain.chat_models import init_chat_model\n",
    "\n",
    "llm = ChatGroq(model=\"llama3-8b-8192\")"
   ]
  },
  {
   "cell_type": "code",
   "execution_count": 5,
   "id": "9c5e2bf2",
   "metadata": {},
   "outputs": [
    {
     "data": {
      "text/plain": [
       "ChatGroq(client=<groq.resources.chat.completions.Completions object at 0x000001D9796DB020>, async_client=<groq.resources.chat.completions.AsyncCompletions object at 0x000001D97982A450>, model_name='llama3-8b-8192', model_kwargs={}, groq_api_key=SecretStr('**********'))"
      ]
     },
     "execution_count": 5,
     "metadata": {},
     "output_type": "execute_result"
    }
   ],
   "source": [
    "llm"
   ]
  },
  {
   "cell_type": "code",
   "execution_count": 6,
   "id": "ffcdebc3",
   "metadata": {},
   "outputs": [],
   "source": [
    "# Node functionality -> will recieve input and invoke LLM and append it into message \n",
    "def chatbot(state: State):\n",
    "    return {\"messages\" : [llm.invoke(state[\"messages\"])]}  "
   ]
  },
  {
   "cell_type": "code",
   "execution_count": 7,
   "id": "c47a249f",
   "metadata": {},
   "outputs": [],
   "source": [
    "# Building graph\n",
    "graph_builder = StateGraph(State)\n",
    "\n",
    "# Adding node\n",
    "graph_builder.add_node(\"llmchatbot\", chatbot) # starting and name of the chatbot is \"llmchatbot\"\n",
    "\n",
    "# Adding edges\n",
    "graph_builder.add_edge(START, \"llmchatbot\") # edge from START -> llmchatbot\n",
    "graph_builder.add_edge(\"llmchatbot\", END) # edge from llmchatbot -> END\n",
    "\n",
    "# Compile the graph\n",
    "graph = graph_builder.compile()"
   ]
  },
  {
   "cell_type": "code",
   "execution_count": 8,
   "id": "26e5ed41",
   "metadata": {},
   "outputs": [
    {
     "data": {
      "image/png": "[encoded data removed]",
      "text/plain": [
       "<langgraph.graph.state.CompiledStateGraph object at 0x000001D979539D60>"
      ]
     },
     "execution_count": 8,
     "metadata": {},
     "output_type": "execute_result"
    }
   ],
   "source": [
    "graph"
   ]
  },
  {
   "cell_type": "code",
   "execution_count": 9,
   "id": "f6544dc2",
   "metadata": {},
   "outputs": [
    {
     "data": {
      "image/png": "[encoded data removed]",
      "text/plain": [
       "<langgraph.graph.state.CompiledStateGraph object at 0x000001D97982B080>"
      ]
     },
     "execution_count": 9,
     "metadata": {},
     "output_type": "execute_result"
    }
   ],
   "source": [
    "# For PRACTISE\n",
    "graph_build = StateGraph(State)\n",
    "\n",
    "# Add node\n",
    "graph_build.add_node(\"demo_node1\", chatbot)\n",
    "graph_build.add_node(\"demo_node2\", chatbot)\n",
    "\n",
    "# Add edges\n",
    "graph_build.add_edge(START, \"demo_node1\")\n",
    "graph_build.add_edge(\"demo_node1\",\"demo_node2\")\n",
    "graph_build.add_edge(\"demo_node2\",END)\n",
    "\n",
    "graph_build.compile()"
   ]
  },
  {
   "cell_type": "code",
   "execution_count": 10,
   "id": "34fe19f8",
   "metadata": {},
   "outputs": [
    {
     "name": "stdout",
     "output_type": "stream",
     "text": [
      "Hello! It's nice to meet you. Is there something I can help you with, or would you like to chat?\n"
     ]
    }
   ],
   "source": [
    "output = graph.invoke({\"messages\": \"Hello\"})\n",
    "answer = output[\"messages\"][-1].content \n",
    "print(answer)"
   ]
  },
  {
   "cell_type": "code",
   "execution_count": 11,
   "id": "ec695752",
   "metadata": {},
   "outputs": [
    {
     "name": "stdout",
     "output_type": "stream",
     "text": [
      "Here's one:\n",
      "\n",
      "Why couldn't the bicycle stand up by itself?\n",
      "\n",
      "(Wait for it...)\n",
      "\n",
      "Because it was two-tired!\n",
      "\n",
      "Hope that made you smile! Do you want to hear another one?\n"
     ]
    }
   ],
   "source": [
    "for event in graph.stream({\"messages\": \"Tell me a joke!\"}):\n",
    "    for value in event.values():\n",
    "        print(value[\"messages\"][-1].content)"
   ]
  },
  {
   "cell_type": "markdown",
   "id": "5257d18c",
   "metadata": {},
   "source": [
    "### Making chatbot with integrating tools :\n",
    "\n",
    "- When we asks any real-time or live questions to chatbot(LLM), then it is not able to answer the questions.\n",
    "- We integrate tools with LLM so that LLM can analyze user input and use tools to get output.\n",
    "- There are two different types of tools we integrate with LLM,\n",
    "    1) LLM + Bindede tools (ex: DuckDuckGo Search)\n",
    "    2) Custom function define with Doc string"
   ]
  },
  {
   "cell_type": "code",
   "execution_count": 12,
   "id": "0b081cc9",
   "metadata": {},
   "outputs": [
    {
     "data": {
      "text/plain": [
       "{'query': 'What is Langgraph?',\n",
       " 'follow_up_questions': None,\n",
       " 'answer': None,\n",
       " 'images': [],\n",
       " 'results': [{'url': 'https://www.datacamp.com/tutorial/langgraph-tutorial',\n",
       "   'title': 'LangGraph Tutorial: What Is LangGraph and How to Use It?',\n",
       "   'content': 'LangGraph is a library within the LangChain ecosystem that provides a framework for defining, coordinating, and executing multiple LLM agents (or chains) in a structured and efficient manner. By managing the flow of data and the sequence of operations, LangGraph allows developers to focus on the high-level logic of their applications rather than the intricacies of agent coordination. Whether you need a chatbot that can handle various types of user requests or a multi-agent system that performs complex tasks, LangGraph provides the tools to build exactly what you need. LangGraph significantly simplifies the development of complex LLM applications by providing a structured framework for managing state and coordinating agent interactions.',\n",
       "   'score': 0.9516526,\n",
       "   'raw_content': None},\n",
       "  {'url': 'https://www.ibm.com/think/topics/langgraph',\n",
       "   'title': 'What is LangGraph? - IBM',\n",
       "   'content': 'LangGraph, created by LangChain, is an open source AI agent framework designed to build, deploy and manage complex generative AI agent workflows. At its core, LangGraph uses the power of graph-based architectures to model and manage the intricate relationships between various components of an AI agent workflow. LangGraph illuminates the processes within an AI workflow, allowing full transparency of the agent’s state. By combining these technologies with a set of APIs and tools, LangGraph provides users with a versatile platform for developing AI solutions and workflows including chatbots, state graphs and other agent-based systems. Nodes: In LangGraph, nodes represent individual components or agents within an AI workflow. LangGraph uses enhanced decision-making by modeling complex relationships between nodes, which means it uses AI agents to analyze their past actions and feedback.',\n",
       "   'score': 0.94726914,\n",
       "   'raw_content': None}],\n",
       " 'response_time': 0.81}"
      ]
     },
     "execution_count": 12,
     "metadata": {},
     "output_type": "execute_result"
    }
   ],
   "source": [
    "from langchain_tavily import TavilySearch\n",
    "\n",
    "tool = TavilySearch(max_results=2)\n",
    "tool.invoke(\"What is Langgraph?\")"
   ]
  },
  {
   "cell_type": "code",
   "execution_count": 26,
   "id": "4d737ebe",
   "metadata": {},
   "outputs": [],
   "source": [
    "# Build custom function with Docstring\n",
    "def multiply(a: int, b: int) -> int:\n",
    "    \"\"\"Multiply a and b     \n",
    "    \n",
    "    Args:\n",
    "        a (int): first int\n",
    "        b (int): second int\n",
    "\n",
    "    Returns:\n",
    "        int: output int\n",
    "    \"\"\"\n",
    "    return a*b"
   ]
  },
  {
   "cell_type": "code",
   "execution_count": 27,
   "id": "a33c6105",
   "metadata": {},
   "outputs": [],
   "source": [
    "tools = [tool, multiply]"
   ]
  },
  {
   "cell_type": "code",
   "execution_count": 28,
   "id": "b844a893",
   "metadata": {},
   "outputs": [
    {
     "data": {
      "text/plain": [
       "RunnableBinding(bound=ChatGroq(client=<groq.resources.chat.completions.Completions object at 0x000001D9796DB020>, async_client=<groq.resources.chat.completions.AsyncCompletions object at 0x000001D97982A450>, model_name='llama3-8b-8192', model_kwargs={}, groq_api_key=SecretStr('**********')), kwargs={'tools': [{'type': 'function', 'function': {'name': 'tavily_search', 'description': 'A search engine optimized for comprehensive, accurate, and trusted results. Useful for when you need to answer questions about current events. It not only retrieves URLs and snippets, but offers advanced search depths, domain management, time range filters, and image search, this tool delivers real-time, accurate, and citation-backed results.Input should be a search query.', 'parameters': {'properties': {'query': {'description': 'Search query to look up', 'type': 'string'}, 'include_domains': {'anyOf': [{'items': {'type': 'string'}, 'type': 'array'}, {'type': 'null'}], 'default': [], 'description': 'A list of domains to restrict search results to.\\n\\n        Use this parameter when:\\n        1. The user explicitly requests information from specific websites (e.g., \"Find climate data from nasa.gov\")\\n        2. The user mentions an organization or company without specifying the domain (e.g., \"Find information about iPhones from Apple\")\\n\\n        In both cases, you should determine the appropriate domains (e.g., [\"nasa.gov\"] or [\"apple.com\"]) and set this parameter.\\n\\n        Results will ONLY come from the specified domains - no other sources will be included.\\n        Default is None (no domain restriction).\\n        '}, 'exclude_domains': {'anyOf': [{'items': {'type': 'string'}, 'type': 'array'}, {'type': 'null'}], 'default': [], 'description': 'A list of domains to exclude from search results.\\n\\n        Use this parameter when:\\n        1. The user explicitly requests to avoid certain websites (e.g., \"Find information about climate change but not from twitter.com\")\\n        2. The user mentions not wanting results from specific organizations without naming the domain (e.g., \"Find phone reviews but nothing from Apple\")\\n\\n        In both cases, you should determine the appropriate domains to exclude (e.g., [\"twitter.com\"] or [\"apple.com\"]) and set this parameter.\\n\\n        Results will filter out all content from the specified domains.\\n        Default is None (no domain exclusion).\\n        '}, 'search_depth': {'anyOf': [{'enum': ['basic', 'advanced'], 'type': 'string'}, {'type': 'null'}], 'default': 'basic', 'description': 'Controls search thoroughness and result comprehensiveness.\\n    \\n        Use \"basic\" for simple queries requiring quick, straightforward answers.\\n        \\n        Use \"advanced\" (default) for complex queries, specialized topics, \\n        rare information, or when in-depth analysis is needed.\\n        '}, 'include_images': {'anyOf': [{'type': 'boolean'}, {'type': 'null'}], 'default': False, 'description': 'Determines if the search returns relevant images along with text results.\\n   \\n        Set to True when the user explicitly requests visuals or when images would \\n        significantly enhance understanding (e.g., \"Show me what black holes look like,\" \\n        \"Find pictures of Renaissance art\").\\n        \\n        Leave as False (default) for most informational queries where text is sufficient.\\n        '}, 'time_range': {'anyOf': [{'enum': ['day', 'week', 'month', 'year'], 'type': 'string'}, {'type': 'null'}], 'default': None, 'description': 'Limits results to content published within a specific timeframe.\\n        \\n        ONLY set this when the user explicitly mentions a time period \\n        (e.g., \"latest AI news,\" \"articles from last week\").\\n        \\n        For less popular or niche topics, use broader time ranges \\n        (\"month\" or \"year\") to ensure sufficient relevant results.\\n   \\n        Options: \"day\" (24h), \"week\" (7d), \"month\" (30d), \"year\" (365d).\\n        \\n        Default is None.\\n        '}, 'topic': {'anyOf': [{'enum': ['general', 'news', 'finance'], 'type': 'string'}, {'type': 'null'}], 'default': 'general', 'description': 'Specifies search category for optimized results.\\n   \\n        Use \"general\" (default) for most queries, INCLUDING those with terms like \\n        \"latest,\" \"newest,\" or \"recent\" when referring to general information.\\n\\n        Use \"finance\" for markets, investments, economic data, or financial news.\\n\\n        Use \"news\" ONLY for politics, sports, or major current events covered by \\n        mainstream media - NOT simply because a query asks for \"new\" information.\\n        '}, 'include_favicon': {'anyOf': [{'type': 'boolean'}, {'type': 'null'}], 'default': False, 'description': \"Determines whether to include favicon URLs for each search result.\\n        \\n        When enabled, each search result will include the website's favicon URL,\\n        which can be useful for:\\n        - Building rich UI interfaces with visual website indicators\\n        - Providing visual cues about the source's credibility or brand\\n        - Creating bookmark-like displays with recognizable site icons\\n        \\n        Set to True when creating user interfaces that benefit from visual branding\\n        or when favicon information enhances the user experience.\\n        \\n        Default is False to minimize response size and API usage.\\n        \"}, 'start_date': {'anyOf': [{'type': 'string'}, {'type': 'null'}], 'default': None, 'description': 'Filters search results to include only content published on or after this date.\\n        \\n        Use this parameter when you need to:\\n        - Find recent developments or updates on a topic\\n        - Exclude outdated information from search results\\n        - Focus on content within a specific timeframe\\n        - Combine with end_date to create a custom date range\\n        \\n        Format must be YYYY-MM-DD (e.g., \"2024-01-15\" for January 15, 2024).\\n        \\n        Examples:\\n        - \"2024-01-01\" - Results from January 1, 2024 onwards\\n        - \"2023-12-25\" - Results from December 25, 2023 onwards\\n        \\n        When combined with end_date, creates a precise date range filter.\\n        \\n        Default is None (no start date restriction).\\n        '}, 'end_date': {'anyOf': [{'type': 'string'}, {'type': 'null'}], 'default': None, 'description': 'Filters search results to include only content published on or before this date.\\n        \\n        Use this parameter when you need to:\\n        - Exclude content published after a certain date\\n        - Study historical information or past events\\n        - Research how topics were covered during specific time periods\\n        - Combine with start_date to create a custom date range\\n        \\n        Format must be YYYY-MM-DD (e.g., \"2024-03-31\" for March 31, 2024).\\n        \\n        Examples:\\n        - \"2024-03-31\" - Results up to and including March 31, 2024\\n        - \"2023-12-31\" - Results up to and including December 31, 2023\\n        \\n        When combined with start_date, creates a precise date range filter.\\n        For example: start_date=\"2024-01-01\", end_date=\"2024-03-31\" \\n        returns results from Q1 2024 only.\\n        \\n        Default is None (no end date restriction).\\n        '}}, 'required': ['query'], 'type': 'object'}}}, {'type': 'function', 'function': {'name': 'multiply', 'description': 'Multiply a and b     ', 'parameters': {'properties': {'a': {'description': 'first int', 'type': 'integer'}, 'b': {'description': 'second int', 'type': 'integer'}}, 'required': ['a', 'b'], 'type': 'object'}}}]}, config={}, config_factories=[])"
      ]
     },
     "execution_count": 28,
     "metadata": {},
     "output_type": "execute_result"
    }
   ],
   "source": [
    "llm_with_tools = llm.bind_tools(tools)\n",
    "llm_with_tools # connected to tavily search, multiply --> integrate into chatbot"
   ]
  },
  {
   "cell_type": "code",
   "execution_count": 29,
   "id": "56b3971d",
   "metadata": {},
   "outputs": [
    {
     "data": {
      "image/png": "[encoded data removed]",
      "text/plain": [
       "<langgraph.graph.state.CompiledStateGraph object at 0x000001D97AC89580>"
      ]
     },
     "execution_count": 29,
     "metadata": {},
     "output_type": "execute_result"
    }
   ],
   "source": [
    "# Stategraph building\n",
    "from langgraph.graph import StateGraph, START, END\n",
    "from langgraph.prebuilt import ToolNode\n",
    "from langgraph.prebuilt import tools_condition\n",
    "\n",
    "# Node defination\n",
    "def tool_calling_llm(state: State):\n",
    "    return {\"messages\" : [llm_with_tools.invoke(state[\"messages\"])]}\n",
    "\n",
    "# Graph\n",
    "builder = StateGraph(State)\n",
    "builder.add_node(\"tool_calling_llm\",tool_calling_llm)  # Name, functionality\n",
    "builder.add_node(\"tools\", ToolNode(tools))\n",
    "\n",
    "# Add edges\n",
    "builder.add_edge(START, \"tool_calling_llm\")\n",
    "builder.add_conditional_edges(\n",
    "    \"tool_calling_llm\",\n",
    "    # If the latest message (result) from llm is a tool call -> tools_condition routes to tools\n",
    "    # If the latest message (result) from llm is not a tool call -> tools_condition routes to END\n",
    "    tools_condition\n",
    ")\n",
    "builder.add_edge(\"tools\",END)\n",
    "\n",
    "# Compile the graph\n",
    "graph = builder.compile()\n",
    "graph"
   ]
  },
  {
   "cell_type": "code",
   "execution_count": 30,
   "id": "0851452f",
   "metadata": {},
   "outputs": [],
   "source": [
    "response = graph.invoke({\"messages\": \"What is the recent AI news\"})"
   ]
  },
  {
   "cell_type": "code",
   "execution_count": 31,
   "id": "96b8abdc",
   "metadata": {},
   "outputs": [
    {
     "data": {
      "text/plain": [
       "'{\"query\": \"recent AI news\", \"follow_up_questions\": null, \"answer\": null, \"images\": [], \"results\": [{\"url\": \"https://www.infosecurity-magazine.com/news/defcon-ai-cyber-challenge-winners/\", \"title\": \"AI Cyber Challenge Winners Revealed in DARPA’s $4M Cybersecurity Showd - Infosecurity Magazine\", \"score\": 0.7680558, \"published_date\": \"Sat, 09 Aug 2025 10:45:00 GMT\", \"content\": \"1.   ### Microsoft 365 Copilot: New Zero-Click AI Vulnerability Allows Corporate Data Theft\\\\n\\\\nNews13 Jun 2025   \\\\n2.   ### Organizations Found to Address Only 21% of GenAI-Related Vulnerabilities\\\\n\\\\nNews15 Apr 2025   \\\\n3.   ### Google OSS-Fuzz Harnesses AI to Expose 26 Hidden Security Vulnerabilities\\\\n\\\\nNews21 Nov 2024   \\\\n4.   ### Google\\'s Naptime Framework to Boost Vulnerability Research with AI\\\\n\\\\nNews25 Jun 2024   \\\\n5.   ### The Impact of AI on the Cybercrime Economy\\\\n\\\\nOpinion28 Dec 2018 [...] ### Chinese Smishing Campaigns Compromise up to 115 Million US Payment Cards\\\\n\\\\nNews5 Aug 2025\\\\n\\\\n4\\\\n\\\\n### New Chaos Ransomware Emerges, Launches Wave of Attacks\\\\n\\\\nNews25 Jul 2025\\\\n\\\\n5\\\\n\\\\n### Hackers Regularly Exploit Vulnerabilities Before Public Disclosure, Study Finds\\\\n\\\\nNews1 Aug 2025\\\\n\\\\n6\\\\n\\\\n### From Code to Chaos: How AI Is Weaponizing the Cyber Battlefield\\\\n\\\\nWebinar24 Jul 2025\\\\n\\\\n1\\\\n\\\\n### Mastering Emerging Regulations: DORA, NIS2 and AI Act Compliance\\\\n\\\\nWebinar17 Jul 2025\\\\n\\\\n2 [...] The seven finalists (Team Atlanta, Trail of Bits, Theori, All You Need IS A Fuzzing Brain, Shellphish, 42-b3yond-6ug and Lacrosse) were announced at DEFCON 32 in August 2024 and were awarded $2m each.\\\\n\\\\nTech giants Google, Microsoft, Anthropic, and OpenAI collectively backed the competition with over $1m each in AI model credits, ensuring teams had the computational firepower needed to tackle critical infrastructure security challenges.\", \"raw_content\": null}, {\"url\": \"https://www.bbc.com/news/articles/c4gez754mn6o\", \"title\": \"It shocked the US market but has China\\'s DeepSeek changed AI? - BBC\", \"score\": 0.6852132, \"published_date\": \"Sat, 09 Aug 2025 23:06:23 GMT\", \"content\": \"Just days after releasing the free models, OpenAI unveiled GPT-5. In the run-up, the company said it significantly ramped up its computing capacity and AI infrastructure.\\\\n\\\\nA slew of announcements about new data centre clusters needed for AI has come as American tech companies have been competing for top-tier AI talent.\\\\n\\\\nMeta CEO Mark Zuckerberg has ploughed billions of dollars to fulfil his AI ambitions, and tried to lure staff from rivals with $100m pay packages. [...] The fortunes of the tech giants seemed more tethered than ever to their commitment to AI spending, as evidenced by the series of blowout results revealed this past tech earnings season.\\\\n\\\\nMeanwhile, shares of Nvidia, which plunged just after DeepSeek\\'s arrival, have rebounded – touching new highs that have made it the world\\'s most valuable company in history.\\\\n\\\\n\\\\\"The initial narrative has proven a bit of a red herring,\\\\\" said Mill Pond Research\\'s Caen.\", \"raw_content\": null}], \"response_time\": 1.45}'"
      ]
     },
     "execution_count": 31,
     "metadata": {},
     "output_type": "execute_result"
    }
   ],
   "source": [
    "response['messages'][-1].content"
   ]
  },
  {
   "cell_type": "code",
   "execution_count": 32,
   "id": "770fdaa2",
   "metadata": {},
   "outputs": [
    {
     "name": "stdout",
     "output_type": "stream",
     "text": [
      "================================\u001b[1m Human Message \u001b[0m=================================\n",
      "\n",
      "What is the recent AI news\n",
      "==================================\u001b[1m Ai Message \u001b[0m==================================\n",
      "Tool Calls:\n",
      "  tavily_search (qzaz6xfsz)\n",
      " Call ID: qzaz6xfsz\n",
      "  Args:\n",
      "    end_date: None\n",
      "    exclude_domains: []\n",
      "    include_domains: []\n",
      "    include_favicon: False\n",
      "    include_images: False\n",
      "    query: recent AI news\n",
      "    search_depth: advanced\n",
      "    start_date: None\n",
      "    time_range: day\n",
      "    topic: news\n",
      "=================================\u001b[1m Tool Message \u001b[0m=================================\n",
      "Name: tavily_search\n",
      "\n",
      "{\"query\": \"recent AI news\", \"follow_up_questions\": null, \"answer\": null, \"images\": [], \"results\": [{\"url\": \"https://www.infosecurity-magazine.com/news/defcon-ai-cyber-challenge-winners/\", \"title\": \"AI Cyber Challenge Winners Revealed in DARPA’s $4M Cybersecurity Showd - Infosecurity Magazine\", \"score\": 0.7680558, \"published_date\": \"Sat, 09 Aug 2025 10:45:00 GMT\", \"content\": \"1.   ### Microsoft 365 Copilot: New Zero-Click AI Vulnerability Allows Corporate Data Theft\\n\\nNews13 Jun 2025   \\n2.   ### Organizations Found to Address Only 21% of GenAI-Related Vulnerabilities\\n\\nNews15 Apr 2025   \\n3.   ### Google OSS-Fuzz Harnesses AI to Expose 26 Hidden Security Vulnerabilities\\n\\nNews21 Nov 2024   \\n4.   ### Google's Naptime Framework to Boost Vulnerability Research with AI\\n\\nNews25 Jun 2024   \\n5.   ### The Impact of AI on the Cybercrime Economy\\n\\nOpinion28 Dec 2018 [...] ### Chinese Smishing Campaigns Compromise up to 115 Million US Payment Cards\\n\\nNews5 Aug 2025\\n\\n4\\n\\n### New Chaos Ransomware Emerges, Launches Wave of Attacks\\n\\nNews25 Jul 2025\\n\\n5\\n\\n### Hackers Regularly Exploit Vulnerabilities Before Public Disclosure, Study Finds\\n\\nNews1 Aug 2025\\n\\n6\\n\\n### From Code to Chaos: How AI Is Weaponizing the Cyber Battlefield\\n\\nWebinar24 Jul 2025\\n\\n1\\n\\n### Mastering Emerging Regulations: DORA, NIS2 and AI Act Compliance\\n\\nWebinar17 Jul 2025\\n\\n2 [...] The seven finalists (Team Atlanta, Trail of Bits, Theori, All You Need IS A Fuzzing Brain, Shellphish, 42-b3yond-6ug and Lacrosse) were announced at DEFCON 32 in August 2024 and were awarded $2m each.\\n\\nTech giants Google, Microsoft, Anthropic, and OpenAI collectively backed the competition with over $1m each in AI model credits, ensuring teams had the computational firepower needed to tackle critical infrastructure security challenges.\", \"raw_content\": null}, {\"url\": \"https://www.bbc.com/news/articles/c4gez754mn6o\", \"title\": \"It shocked the US market but has China's DeepSeek changed AI? - BBC\", \"score\": 0.6852132, \"published_date\": \"Sat, 09 Aug 2025 23:06:23 GMT\", \"content\": \"Just days after releasing the free models, OpenAI unveiled GPT-5. In the run-up, the company said it significantly ramped up its computing capacity and AI infrastructure.\\n\\nA slew of announcements about new data centre clusters needed for AI has come as American tech companies have been competing for top-tier AI talent.\\n\\nMeta CEO Mark Zuckerberg has ploughed billions of dollars to fulfil his AI ambitions, and tried to lure staff from rivals with $100m pay packages. [...] The fortunes of the tech giants seemed more tethered than ever to their commitment to AI spending, as evidenced by the series of blowout results revealed this past tech earnings season.\\n\\nMeanwhile, shares of Nvidia, which plunged just after DeepSeek's arrival, have rebounded – touching new highs that have made it the world's most valuable company in history.\\n\\n\\\"The initial narrative has proven a bit of a red herring,\\\" said Mill Pond Research's Caen.\", \"raw_content\": null}], \"response_time\": 1.45}\n"
     ]
    }
   ],
   "source": [
    "for m in response['messages']:\n",
    "    m.pretty_print()"
   ]
  },
  {
   "cell_type": "code",
   "execution_count": 33,
   "id": "d6e22b92",
   "metadata": {},
   "outputs": [
    {
     "name": "stdout",
     "output_type": "stream",
     "text": [
      "================================\u001b[1m Human Message \u001b[0m=================================\n",
      "\n",
      "What is 2 multiplied by 3\n",
      "==================================\u001b[1m Ai Message \u001b[0m==================================\n",
      "Tool Calls:\n",
      "  multiply (y8bttd3mn)\n",
      " Call ID: y8bttd3mn\n",
      "  Args:\n",
      "    a: 2\n",
      "    b: 3\n",
      "=================================\u001b[1m Tool Message \u001b[0m=================================\n",
      "Name: multiply\n",
      "\n",
      "6\n"
     ]
    }
   ],
   "source": [
    "response1 = graph.invoke({\"messages\": 'What is 2 multiplied by 3'})\n",
    "for i in response1['messages']:\n",
    "    i.pretty_print()"
   ]
  }
 ],
 "metadata": {
  "kernelspec": {
   "display_name": "Agentic-AI KrishNaik",
   "language": "python",
   "name": "python3"
  },
  "language_info": {
   "codemirror_mode": {
    "name": "ipython",
    "version": 3
   },
   "file_extension": ".py",
   "mimetype": "text/x-python",
   "name": "python",
   "nbconvert_exporter": "python",
   "pygments_lexer": "ipython3",
   "version": "3.12.3"
  }
 },
 "nbformat": 4,
 "nbformat_minor": 5
}
