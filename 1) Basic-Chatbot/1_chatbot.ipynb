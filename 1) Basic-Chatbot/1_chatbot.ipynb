{
 "cells": [
  {
   "cell_type": "code",
   "execution_count": 1,
   "id": "75b9a539",
   "metadata": {},
   "outputs": [],
   "source": [
    "from typing import Annotated\n",
    "from typing_extensions import TypedDict\n",
    "from langgraph.graph import StateGraph, START, END\n",
    "from langgraph.graph.message import add_messages # add_messages is reducer which only append messages, not replaces"
   ]
  },
  {
   "cell_type": "code",
   "execution_count": 8,
   "id": "655f1fae",
   "metadata": {},
   "outputs": [],
   "source": [
    "class State(TypedDict):\n",
    "    messages:Annotated[list, add_messages]  # append messages to list using add_message"
   ]
  },
  {
   "cell_type": "code",
   "execution_count": 4,
   "id": "6b463f42",
   "metadata": {},
   "outputs": [
    {
     "data": {
      "text/plain": [
       "True"
      ]
     },
     "execution_count": 4,
     "metadata": {},
     "output_type": "execute_result"
    }
   ],
   "source": [
    "import os \n",
    "from dotenv import load_dotenv\n",
    "load_dotenv()"
   ]
  },
  {
   "cell_type": "code",
   "execution_count": 5,
   "id": "8281e33a",
   "metadata": {},
   "outputs": [],
   "source": [
    "# Make LLM\n",
    "from langchain_groq import ChatGroq\n",
    "from langchain.chat_models import init_chat_model\n",
    "\n",
    "llm = ChatGroq(model=\"llama3-8b-8192\")"
   ]
  },
  {
   "cell_type": "code",
   "execution_count": 6,
   "id": "9c5e2bf2",
   "metadata": {},
   "outputs": [
    {
     "data": {
      "text/plain": [
       "ChatGroq(client=<groq.resources.chat.completions.Completions object at 0x0000011D979D4CB0>, async_client=<groq.resources.chat.completions.AsyncCompletions object at 0x0000011D97A99E50>, model_name='llama3-8b-8192', model_kwargs={}, groq_api_key=SecretStr('**********'))"
      ]
     },
     "execution_count": 6,
     "metadata": {},
     "output_type": "execute_result"
    }
   ],
   "source": [
    "llm"
   ]
  },
  {
   "cell_type": "code",
   "execution_count": 7,
   "id": "ffcdebc3",
   "metadata": {},
   "outputs": [],
   "source": [
    "# Node functionality -> will recieve input and invoke LLM and append it into message \n",
    "def chatbot(state: State):\n",
    "    return {\"messages\" : [llm.invoke(state[\"messages\"])]}  "
   ]
  },
  {
   "cell_type": "code",
   "execution_count": 11,
   "id": "c47a249f",
   "metadata": {},
   "outputs": [],
   "source": [
    "# Building graph\n",
    "graph_builder = StateGraph(State)\n",
    "\n",
    "# Adding node\n",
    "graph_builder.add_node(\"llmchatbot\", chatbot) # starting and name of the chatbot is \"llmchatbot\"\n",
    "\n",
    "# Adding edges\n",
    "graph_builder.add_edge(START, \"llmchatbot\") # edge from START -> llmchatbot\n",
    "graph_builder.add_edge(\"llmchatbot\", END) # edge from llmchatbot -> END\n",
    "\n",
    "# Compile the graph\n",
    "graph = graph_builder.compile()"
   ]
  },
  {
   "cell_type": "code",
   "execution_count": 12,
   "id": "26e5ed41",
   "metadata": {},
   "outputs": [
    {
     "data": {
      "image/png": "[encoded data removed]",
      "text/plain": [
       "<langgraph.graph.state.CompiledStateGraph object at 0x0000011D98C6B2F0>"
      ]
     },
     "execution_count": 12,
     "metadata": {},
     "output_type": "execute_result"
    }
   ],
   "source": [
    "graph"
   ]
  },
  {
   "cell_type": "code",
   "execution_count": 14,
   "id": "f6544dc2",
   "metadata": {},
   "outputs": [
    {
     "data": {
      "image/png": "[encoded data removed]",
      "text/plain": [
       "<langgraph.graph.state.CompiledStateGraph object at 0x0000011D98AEC620>"
      ]
     },
     "execution_count": 14,
     "metadata": {},
     "output_type": "execute_result"
    }
   ],
   "source": [
    "# For PRACTISE\n",
    "graph_build = StateGraph(State)\n",
    "\n",
    "# Add node\n",
    "graph_build.add_node(\"demo_node1\", chatbot)\n",
    "graph_build.add_node(\"demo_node2\", chatbot)\n",
    "\n",
    "# Add edges\n",
    "graph_build.add_edge(START, \"demo_node1\")\n",
    "graph_build.add_edge(\"demo_node1\",\"demo_node2\")\n",
    "graph_build.add_edge(\"demo_node2\",END)\n",
    "\n",
    "graph_build.compile()"
   ]
  },
  {
   "cell_type": "code",
   "execution_count": 19,
   "id": "34fe19f8",
   "metadata": {},
   "outputs": [
    {
     "name": "stdout",
     "output_type": "stream",
     "text": [
      "Hello! It's nice to meet you. Is there something I can help you with, or would you like to chat?\n"
     ]
    }
   ],
   "source": [
    "output = graph.invoke({\"messages\": \"Hello\"})\n",
    "answer = output[\"messages\"][-1].content \n",
    "print(answer)"
   ]
  },
  {
   "cell_type": "code",
   "execution_count": 21,
   "id": "ec695752",
   "metadata": {},
   "outputs": [
    {
     "name": "stdout",
     "output_type": "stream",
     "text": [
      "Why couldn't the bicycle stand up by itself?\n",
      "\n",
      "Because it was two-tired!\n",
      "\n",
      "Hope that made you laugh!\n"
     ]
    }
   ],
   "source": [
    "for event in graph.stream({\"messages\": \"Tell me a joke!\"}):\n",
    "    for value in event.values():\n",
    "        print(value[\"messages\"][-1].content)"
   ]
  },
  {
   "cell_type": "code",
   "execution_count": null,
   "id": "d84cf19e",
   "metadata": {},
   "outputs": [],
   "source": []
  }
 ],
 "metadata": {
  "kernelspec": {
   "display_name": "Agentic-AI KrishNaik",
   "language": "python",
   "name": "python3"
  },
  "language_info": {
   "codemirror_mode": {
    "name": "ipython",
    "version": 3
   },
   "file_extension": ".py",
   "mimetype": "text/x-python",
   "name": "python",
   "nbconvert_exporter": "python",
   "pygments_lexer": "ipython3",
   "version": "3.12.3"
  }
 },
 "nbformat": 4,
 "nbformat_minor": 5
}
